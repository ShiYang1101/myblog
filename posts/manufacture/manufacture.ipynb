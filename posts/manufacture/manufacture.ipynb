{
 "cells": [
  {
   "cell_type": "code",
   "execution_count": 129,
   "metadata": {},
   "outputs": [],
   "source": [
    "import pandas as pd\n",
    "import matplotlib.pyplot as plt\n",
    "import seaborn as sns\n"
   ]
  },
  {
   "cell_type": "raw",
   "metadata": {},
   "source": [
    "---\n",
    "title: \"Manufacture Dataset\"\n",
    "description: \"This notebook contains analysis for Manufacture 2030 dataset, including time-series analysis\"\n",
    "data: \"08/02/2023\"\n",
    "format:\n",
    "    html:\n",
    "        code-fold: true\n",
    "jupyter: python3\n",
    "---"
   ]
  },
  {
   "attachments": {},
   "cell_type": "markdown",
   "metadata": {},
   "source": [
    "# Manufacture 2030\n",
    "\n",
    "This notebook serves as a proceeding analysis after Excel and Tableau analysis.\n",
    "\n",
    "The previous analysis can be summarized as follow:\n",
    "\n"
   ]
  },
  {
   "attachments": {},
   "cell_type": "markdown",
   "metadata": {},
   "source": [
    "Let's load and have a look at the main dataframe we will be working with."
   ]
  },
  {
   "cell_type": "code",
   "execution_count": 130,
   "metadata": {},
   "outputs": [
    {
     "name": "stderr",
     "output_type": "stream",
     "text": [
      "/home/shiya/.local/lib/python3.9/site-packages/IPython/core/interactiveshell.py:3398: DtypeWarning: Columns (4) have mixed types.Specify dtype option on import or set low_memory=False.\n",
      "  exec(code_obj, self.user_global_ns, self.user_ns)\n"
     ]
    },
    {
     "data": {
      "text/html": [
       "<div>\n",
       "<style scoped>\n",
       "    .dataframe tbody tr th:only-of-type {\n",
       "        vertical-align: middle;\n",
       "    }\n",
       "\n",
       "    .dataframe tbody tr th {\n",
       "        vertical-align: top;\n",
       "    }\n",
       "\n",
       "    .dataframe thead th {\n",
       "        text-align: right;\n",
       "    }\n",
       "</style>\n",
       "<table border=\"1\" class=\"dataframe\">\n",
       "  <thead>\n",
       "    <tr style=\"text-align: right;\">\n",
       "      <th></th>\n",
       "      <th>ProductID</th>\n",
       "      <th>Product name</th>\n",
       "      <th>Product Category</th>\n",
       "      <th>Date</th>\n",
       "      <th>Zip</th>\n",
       "      <th>Units</th>\n",
       "      <th>Revenue</th>\n",
       "      <th>Revenue per unit</th>\n",
       "      <th>MSRP (USD)</th>\n",
       "      <th>Revenue minus MSRP</th>\n",
       "      <th>Manufacturer</th>\n",
       "      <th>Manufacturer ID</th>\n",
       "      <th>Country</th>\n",
       "    </tr>\n",
       "  </thead>\n",
       "  <tbody>\n",
       "    <tr>\n",
       "      <th>0</th>\n",
       "      <td>1450</td>\n",
       "      <td>Quibus RP-42</td>\n",
       "      <td>Urban</td>\n",
       "      <td>21-Sep-17</td>\n",
       "      <td>2730</td>\n",
       "      <td>5</td>\n",
       "      <td>726.6000</td>\n",
       "      <td>£145.32</td>\n",
       "      <td>£152.15</td>\n",
       "      <td>-£6.83</td>\n",
       "      <td>Quibus</td>\n",
       "      <td>12</td>\n",
       "      <td>Mexico</td>\n",
       "    </tr>\n",
       "    <tr>\n",
       "      <th>1</th>\n",
       "      <td>1449</td>\n",
       "      <td>Quibus RP-41</td>\n",
       "      <td>Urban</td>\n",
       "      <td>21-Sep-17</td>\n",
       "      <td>2730</td>\n",
       "      <td>5</td>\n",
       "      <td>726.6000</td>\n",
       "      <td>£145.32</td>\n",
       "      <td>£152.15</td>\n",
       "      <td>-£6.83</td>\n",
       "      <td>Quibus</td>\n",
       "      <td>12</td>\n",
       "      <td>Mexico</td>\n",
       "    </tr>\n",
       "    <tr>\n",
       "      <th>2</th>\n",
       "      <td>780</td>\n",
       "      <td>Natura RP-68</td>\n",
       "      <td>Rural</td>\n",
       "      <td>28-Feb-19</td>\n",
       "      <td>7007</td>\n",
       "      <td>9</td>\n",
       "      <td>3023.5275</td>\n",
       "      <td>£335.95</td>\n",
       "      <td>£389.03</td>\n",
       "      <td>-£53.08</td>\n",
       "      <td>Natura</td>\n",
       "      <td>8</td>\n",
       "      <td>Australia</td>\n",
       "    </tr>\n",
       "    <tr>\n",
       "      <th>3</th>\n",
       "      <td>780</td>\n",
       "      <td>Natura RP-68</td>\n",
       "      <td>Rural</td>\n",
       "      <td>8-Jun-17</td>\n",
       "      <td>1781</td>\n",
       "      <td>19</td>\n",
       "      <td>5984.0025</td>\n",
       "      <td>£314.95</td>\n",
       "      <td>£389.03</td>\n",
       "      <td>-£74.08</td>\n",
       "      <td>Natura</td>\n",
       "      <td>8</td>\n",
       "      <td>Australia</td>\n",
       "    </tr>\n",
       "    <tr>\n",
       "      <th>4</th>\n",
       "      <td>396</td>\n",
       "      <td>Maximus UM-01</td>\n",
       "      <td>Urban</td>\n",
       "      <td>8-Sep-19</td>\n",
       "      <td>2103</td>\n",
       "      <td>8</td>\n",
       "      <td>7562.1000</td>\n",
       "      <td>£945.26</td>\n",
       "      <td>£950.51</td>\n",
       "      <td>-£5.25</td>\n",
       "      <td>VanArsdel</td>\n",
       "      <td>7</td>\n",
       "      <td>Australia</td>\n",
       "    </tr>\n",
       "  </tbody>\n",
       "</table>\n",
       "</div>"
      ],
      "text/plain": [
       "   ProductID   Product name Product Category       Date   Zip  Units  \\\n",
       "0       1450   Quibus RP-42            Urban  21-Sep-17  2730      5   \n",
       "1       1449   Quibus RP-41            Urban  21-Sep-17  2730      5   \n",
       "2        780   Natura RP-68            Rural  28-Feb-19  7007      9   \n",
       "3        780   Natura RP-68            Rural   8-Jun-17  1781     19   \n",
       "4        396  Maximus UM-01            Urban   8-Sep-19  2103      8   \n",
       "\n",
       "     Revenue Revenue per unit MSRP (USD) Revenue minus MSRP Manufacturer  \\\n",
       "0   726.6000          £145.32    £152.15             -£6.83       Quibus   \n",
       "1   726.6000          £145.32    £152.15             -£6.83       Quibus   \n",
       "2  3023.5275          £335.95    £389.03            -£53.08       Natura   \n",
       "3  5984.0025          £314.95    £389.03            -£74.08       Natura   \n",
       "4  7562.1000          £945.26    £950.51             -£5.25    VanArsdel   \n",
       "\n",
       "   Manufacturer ID    Country  \n",
       "0               12     Mexico  \n",
       "1               12     Mexico  \n",
       "2                8  Australia  \n",
       "3                8  Australia  \n",
       "4                7  Australia  "
      ]
     },
     "execution_count": 130,
     "metadata": {},
     "output_type": "execute_result"
    }
   ],
   "source": [
    "sales_df = pd.read_csv('manufacture_sales.csv')\n",
    "sales_df.head()"
   ]
  },
  {
   "attachments": {},
   "cell_type": "markdown",
   "metadata": {},
   "source": [
    "## Data types conversion"
   ]
  },
  {
   "attachments": {},
   "cell_type": "markdown",
   "metadata": {},
   "source": [
    "Since we have processed the data before in Excel, there may be some issues with the data type mismatches. Indeed, from the above peek into the dataset, we can see that the some of the currency columns contain the symbol \"£\", which indicates that the columns are saved as string types in our dataset.\n",
    "\n",
    "Let's have a look at the summary of the dataframe."
   ]
  },
  {
   "cell_type": "code",
   "execution_count": 131,
   "metadata": {},
   "outputs": [
    {
     "name": "stdout",
     "output_type": "stream",
     "text": [
      "<class 'pandas.core.frame.DataFrame'>\n",
      "RangeIndex: 101742 entries, 0 to 101741\n",
      "Data columns (total 13 columns):\n",
      " #   Column              Non-Null Count   Dtype  \n",
      "---  ------              --------------   -----  \n",
      " 0   ProductID           101742 non-null  int64  \n",
      " 1   Product name        101742 non-null  object \n",
      " 2   Product Category    101742 non-null  object \n",
      " 3   Date                101742 non-null  object \n",
      " 4   Zip                 101742 non-null  object \n",
      " 5   Units               101742 non-null  int64  \n",
      " 6   Revenue             101742 non-null  float64\n",
      " 7   Revenue per unit    101742 non-null  object \n",
      " 8   MSRP (USD)          101742 non-null  object \n",
      " 9   Revenue minus MSRP  101742 non-null  object \n",
      " 10  Manufacturer        101742 non-null  object \n",
      " 11  Manufacturer ID     101742 non-null  int64  \n",
      " 12  Country             101742 non-null  object \n",
      "dtypes: float64(1), int64(3), object(9)\n",
      "memory usage: 10.1+ MB\n"
     ]
    }
   ],
   "source": [
    "sales_df.info()"
   ]
  },
  {
   "attachments": {},
   "cell_type": "markdown",
   "metadata": {},
   "source": [
    "Other than the currency data type mismatches, we also observe that the \"Date\" column is also saved as a string type, since we will mainly be working with time-series analysis in this notebook, it is crucial to convert the \"Date\" column in to a pandas' DateTime object."
   ]
  },
  {
   "cell_type": "code",
   "execution_count": 132,
   "metadata": {},
   "outputs": [],
   "source": [
    "# Converting Date column in to Datetime Object.\n",
    "sales_df['Date'] = pd.to_datetime(sales_df['Date'])"
   ]
  },
  {
   "attachments": {},
   "cell_type": "markdown",
   "metadata": {},
   "source": [
    "Now we will attempt to convert the currency columns into float data type."
   ]
  },
  {
   "cell_type": "code",
   "execution_count": 133,
   "metadata": {},
   "outputs": [],
   "source": [
    "# Defining helper function to convert specific currency column.\n",
    "def currency_to_float(df, col_name):\n",
    "    # Using pd.Series.replace method to replace \"£\" and \",\" symbol to empty string,\n",
    "    # we will be using regex r-string to search for the sumbol\n",
    "\n",
    "    if df[col_name].dtype.kind == 'f':\n",
    "        print(f\"{col_name} is already a float type\")\n",
    "        return\n",
    "\n",
    "    print(f\"converting {col_name} column in {df=}\".split('=')[0], \" dataframe into float column...\")\n",
    "    df[col_name] = df[col_name].str.replace(r'[£,]', '', regex = True).astype('float')\n",
    "    assert df[col_name].dtype.kind == 'f'\n",
    "    print('Convert successful!\\n')"
   ]
  },
  {
   "cell_type": "code",
   "execution_count": 134,
   "metadata": {},
   "outputs": [
    {
     "name": "stdout",
     "output_type": "stream",
     "text": [
      "converting Revenue per unit column in df  dataframe into float column...\n",
      "Convert successful!\n",
      "\n",
      "converting MSRP (USD) column in df  dataframe into float column...\n",
      "Convert successful!\n",
      "\n",
      "converting Revenue minus MSRP column in df  dataframe into float column...\n",
      "Convert successful!\n",
      "\n"
     ]
    }
   ],
   "source": [
    "for col in ['Revenue per unit', 'MSRP (USD)', 'Revenue minus MSRP']:\n",
    "\n",
    "    currency_to_float(sales_df, col)"
   ]
  },
  {
   "attachments": {},
   "cell_type": "markdown",
   "metadata": {},
   "source": [
    "As a final check, let's check the data types of the dataframe."
   ]
  },
  {
   "cell_type": "code",
   "execution_count": 135,
   "metadata": {},
   "outputs": [
    {
     "name": "stdout",
     "output_type": "stream",
     "text": [
      "<class 'pandas.core.frame.DataFrame'>\n",
      "RangeIndex: 101742 entries, 0 to 101741\n",
      "Data columns (total 13 columns):\n",
      " #   Column              Non-Null Count   Dtype         \n",
      "---  ------              --------------   -----         \n",
      " 0   ProductID           101742 non-null  int64         \n",
      " 1   Product name        101742 non-null  object        \n",
      " 2   Product Category    101742 non-null  object        \n",
      " 3   Date                101742 non-null  datetime64[ns]\n",
      " 4   Zip                 101742 non-null  object        \n",
      " 5   Units               101742 non-null  int64         \n",
      " 6   Revenue             101742 non-null  float64       \n",
      " 7   Revenue per unit    101742 non-null  float64       \n",
      " 8   MSRP (USD)          101742 non-null  float64       \n",
      " 9   Revenue minus MSRP  101742 non-null  float64       \n",
      " 10  Manufacturer        101742 non-null  object        \n",
      " 11  Manufacturer ID     101742 non-null  int64         \n",
      " 12  Country             101742 non-null  object        \n",
      "dtypes: datetime64[ns](1), float64(4), int64(3), object(5)\n",
      "memory usage: 10.1+ MB\n"
     ]
    }
   ],
   "source": [
    "sales_df.info()"
   ]
  },
  {
   "cell_type": "code",
   "execution_count": 136,
   "metadata": {},
   "outputs": [
    {
     "data": {
      "text/html": [
       "<div>\n",
       "<style scoped>\n",
       "    .dataframe tbody tr th:only-of-type {\n",
       "        vertical-align: middle;\n",
       "    }\n",
       "\n",
       "    .dataframe tbody tr th {\n",
       "        vertical-align: top;\n",
       "    }\n",
       "\n",
       "    .dataframe thead th {\n",
       "        text-align: right;\n",
       "    }\n",
       "</style>\n",
       "<table border=\"1\" class=\"dataframe\">\n",
       "  <thead>\n",
       "    <tr style=\"text-align: right;\">\n",
       "      <th></th>\n",
       "      <th>ProductID</th>\n",
       "      <th>Product name</th>\n",
       "      <th>Product Category</th>\n",
       "      <th>Date</th>\n",
       "      <th>Zip</th>\n",
       "      <th>Units</th>\n",
       "      <th>Revenue</th>\n",
       "      <th>Revenue per unit</th>\n",
       "      <th>MSRP (USD)</th>\n",
       "      <th>Revenue minus MSRP</th>\n",
       "      <th>Manufacturer</th>\n",
       "      <th>Manufacturer ID</th>\n",
       "      <th>Country</th>\n",
       "    </tr>\n",
       "  </thead>\n",
       "  <tbody>\n",
       "    <tr>\n",
       "      <th>0</th>\n",
       "      <td>1450</td>\n",
       "      <td>Quibus RP-42</td>\n",
       "      <td>Urban</td>\n",
       "      <td>2017-09-21</td>\n",
       "      <td>2730</td>\n",
       "      <td>5</td>\n",
       "      <td>726.6000</td>\n",
       "      <td>145.32</td>\n",
       "      <td>152.15</td>\n",
       "      <td>-6.83</td>\n",
       "      <td>Quibus</td>\n",
       "      <td>12</td>\n",
       "      <td>Mexico</td>\n",
       "    </tr>\n",
       "    <tr>\n",
       "      <th>1</th>\n",
       "      <td>1449</td>\n",
       "      <td>Quibus RP-41</td>\n",
       "      <td>Urban</td>\n",
       "      <td>2017-09-21</td>\n",
       "      <td>2730</td>\n",
       "      <td>5</td>\n",
       "      <td>726.6000</td>\n",
       "      <td>145.32</td>\n",
       "      <td>152.15</td>\n",
       "      <td>-6.83</td>\n",
       "      <td>Quibus</td>\n",
       "      <td>12</td>\n",
       "      <td>Mexico</td>\n",
       "    </tr>\n",
       "    <tr>\n",
       "      <th>2</th>\n",
       "      <td>780</td>\n",
       "      <td>Natura RP-68</td>\n",
       "      <td>Rural</td>\n",
       "      <td>2019-02-28</td>\n",
       "      <td>7007</td>\n",
       "      <td>9</td>\n",
       "      <td>3023.5275</td>\n",
       "      <td>335.95</td>\n",
       "      <td>389.03</td>\n",
       "      <td>-53.08</td>\n",
       "      <td>Natura</td>\n",
       "      <td>8</td>\n",
       "      <td>Australia</td>\n",
       "    </tr>\n",
       "    <tr>\n",
       "      <th>3</th>\n",
       "      <td>780</td>\n",
       "      <td>Natura RP-68</td>\n",
       "      <td>Rural</td>\n",
       "      <td>2017-06-08</td>\n",
       "      <td>1781</td>\n",
       "      <td>19</td>\n",
       "      <td>5984.0025</td>\n",
       "      <td>314.95</td>\n",
       "      <td>389.03</td>\n",
       "      <td>-74.08</td>\n",
       "      <td>Natura</td>\n",
       "      <td>8</td>\n",
       "      <td>Australia</td>\n",
       "    </tr>\n",
       "    <tr>\n",
       "      <th>4</th>\n",
       "      <td>396</td>\n",
       "      <td>Maximus UM-01</td>\n",
       "      <td>Urban</td>\n",
       "      <td>2019-09-08</td>\n",
       "      <td>2103</td>\n",
       "      <td>8</td>\n",
       "      <td>7562.1000</td>\n",
       "      <td>945.26</td>\n",
       "      <td>950.51</td>\n",
       "      <td>-5.25</td>\n",
       "      <td>VanArsdel</td>\n",
       "      <td>7</td>\n",
       "      <td>Australia</td>\n",
       "    </tr>\n",
       "  </tbody>\n",
       "</table>\n",
       "</div>"
      ],
      "text/plain": [
       "   ProductID   Product name Product Category       Date   Zip  Units  \\\n",
       "0       1450   Quibus RP-42            Urban 2017-09-21  2730      5   \n",
       "1       1449   Quibus RP-41            Urban 2017-09-21  2730      5   \n",
       "2        780   Natura RP-68            Rural 2019-02-28  7007      9   \n",
       "3        780   Natura RP-68            Rural 2017-06-08  1781     19   \n",
       "4        396  Maximus UM-01            Urban 2019-09-08  2103      8   \n",
       "\n",
       "     Revenue  Revenue per unit  MSRP (USD)  Revenue minus MSRP Manufacturer  \\\n",
       "0   726.6000            145.32      152.15               -6.83       Quibus   \n",
       "1   726.6000            145.32      152.15               -6.83       Quibus   \n",
       "2  3023.5275            335.95      389.03              -53.08       Natura   \n",
       "3  5984.0025            314.95      389.03              -74.08       Natura   \n",
       "4  7562.1000            945.26      950.51               -5.25    VanArsdel   \n",
       "\n",
       "   Manufacturer ID    Country  \n",
       "0               12     Mexico  \n",
       "1               12     Mexico  \n",
       "2                8  Australia  \n",
       "3                8  Australia  \n",
       "4                7  Australia  "
      ]
     },
     "execution_count": 136,
     "metadata": {},
     "output_type": "execute_result"
    }
   ],
   "source": [
    "sales_df.head()"
   ]
  },
  {
   "attachments": {},
   "cell_type": "markdown",
   "metadata": {},
   "source": [
    "## Null values"
   ]
  },
  {
   "cell_type": "code",
   "execution_count": 137,
   "metadata": {},
   "outputs": [
    {
     "data": {
      "text/plain": [
       "ProductID             0\n",
       "Product name          0\n",
       "Product Category      0\n",
       "Date                  0\n",
       "Zip                   0\n",
       "Units                 0\n",
       "Revenue               0\n",
       "Revenue per unit      0\n",
       "MSRP (USD)            0\n",
       "Revenue minus MSRP    0\n",
       "Manufacturer          0\n",
       "Manufacturer ID       0\n",
       "Country               0\n",
       "dtype: int64"
      ]
     },
     "execution_count": 137,
     "metadata": {},
     "output_type": "execute_result"
    }
   ],
   "source": [
    "sales_df.isnull().sum()"
   ]
  },
  {
   "cell_type": "markdown",
   "metadata": {},
   "source": [
    "## EDA"
   ]
  },
  {
   "cell_type": "markdown",
   "metadata": {},
   "source": [
    "### MSRP analysis"
   ]
  },
  {
   "attachments": {},
   "cell_type": "markdown",
   "metadata": {},
   "source": [
    "We are first interested in the difference between the selling price and the manufacturer's suggested retail price (MSRP). By inspecting this varaible, we might gain some insight regarding if any modification of MSRP has to be modified, or if there is any fluctuation in the market, resulting is a high differnce in between the selling prices and MSRP (eg, demand is higher than supplies, resulting in the increase in final selling prices.)"
   ]
  },
  {
   "cell_type": "code",
   "execution_count": 138,
   "metadata": {},
   "outputs": [
    {
     "data": {
      "text/plain": [
       "count    101742.000000\n",
       "mean       -141.916441\n",
       "std         224.444301\n",
       "min        -871.870000\n",
       "25%         -88.780000\n",
       "50%         -39.900000\n",
       "75%         -23.680000\n",
       "max           0.000000\n",
       "Name: Revenue minus MSRP, dtype: float64"
      ]
     },
     "execution_count": 138,
     "metadata": {},
     "output_type": "execute_result"
    }
   ],
   "source": [
    "sales_df['Revenue minus MSRP'].describe()"
   ]
  },
  {
   "attachments": {},
   "cell_type": "markdown",
   "metadata": {},
   "source": [
    "We can see that every sellers has set the selling price to be lower than the MSRP, which is slightly unlikely. However, the more concerning statistics is the minimum values of the difference. Indicating that some sellers were willing to sell the product with less than $842, likely resulting in a loss in profit."
   ]
  },
  {
   "attachments": {},
   "cell_type": "markdown",
   "metadata": {},
   "source": [
    "Let's have a look at the distributions from the data. We have speculate that the distribution should be close to a normal distribution, as sellers are likely to take the MSRPs as a baseline for the selling price."
   ]
  },
  {
   "cell_type": "code",
   "execution_count": 139,
   "metadata": {},
   "outputs": [
    {
     "data": {
      "image/png": "[encoded data removed]",
      "text/plain": [
       "<Figure size 864x432 with 1 Axes>"
      ]
     },
     "metadata": {
      "needs_background": "light"
     },
     "output_type": "display_data"
    }
   ],
   "source": [
    "plt.figure(figsize=(12, 6))\n",
    "sns.histplot(sales_df['Revenue minus MSRP'], bins=30)\n",
    "plt.title('Distribution of the difference between selling price and MSRP')\n",
    "plt.show()"
   ]
  },
  {
   "attachments": {},
   "cell_type": "markdown",
   "metadata": {},
   "source": [
    "From the above figure, we can see that the distribution seems to consists of 2 normal distibutions (centered around -700 and -600) and a skewed distribution towards 0."
   ]
  },
  {
   "attachments": {},
   "cell_type": "markdown",
   "metadata": {},
   "source": [
    "In order to determine the contributors of the normal distributions, let's break down the distributinos by the product categories, perhaps this will give us some insight on the relation between product types and selling prices."
   ]
  },
  {
   "cell_type": "code",
   "execution_count": 140,
   "metadata": {},
   "outputs": [
    {
     "data": {
      "image/png": "[encoded data removed]",
      "text/plain": [
       "<Figure size 864x576 with 1 Axes>"
      ]
     },
     "metadata": {
      "needs_background": "light"
     },
     "output_type": "display_data"
    }
   ],
   "source": [
    "plt.figure(figsize=(12, 8))\n",
    "for i, color in zip(sales_df['Product Category'].unique(), ['r', 'goldenrod', 'blue']):\n",
    "    sns.kdeplot(sales_df[sales_df['Product Category'] == i]['Revenue minus MSRP'], \n",
    "                color=color, label = i)\n",
    "plt.legend()\n",
    "plt.title('Does product categories influences the differnce between selling prices and MSRPs?')\n",
    "plt.show()"
   ]
  },
  {
   "attachments": {},
   "cell_type": "markdown",
   "metadata": {},
   "source": [
    "We have observed an interesting pattern that \"Urban\" product types are much likely to be set at a lower selling price. However, this results could arise from the different scale in the revenue price of different product categories."
   ]
  },
  {
   "attachments": {},
   "cell_type": "markdown",
   "metadata": {},
   "source": [
    "To minimized the effect of the scales, let's have a look at the distributions of revenues for different product types."
   ]
  },
  {
   "cell_type": "code",
   "execution_count": 141,
   "metadata": {},
   "outputs": [
    {
     "data": {
      "image/png": "[encoded data removed]",
      "text/plain": [
       "<Figure size 864x576 with 1 Axes>"
      ]
     },
     "metadata": {
      "needs_background": "light"
     },
     "output_type": "display_data"
    }
   ],
   "source": [
    "\n",
    "plt.figure(figsize=(12, 8))\n",
    "for i, color in zip(sales_df['Product Category'].unique(), ['r', 'goldenrod', 'blue']):\n",
    "    sns.kdeplot(sales_df[sales_df['Product Category'] == i]['Revenue per unit'], \n",
    "                color=color, label = i)\n",
    "plt.legend()\n",
    "plt.title('Distributions of revenues for each product category.')\n",
    "plt.show()"
   ]
  },
  {
   "attachments": {},
   "cell_type": "markdown",
   "metadata": {},
   "source": [
    "Indeed, the urban products has a highly scale of prices, however, the differnce wasn't too significant such that it would contribute much for the variable. \n",
    "\n",
    "> It's also worth noting that the revenues resemble a multinomial distribution, without knowing what the products types represents, we can only have an educated guess at this point. Further data collected should consists of the sub-categories of transaction, in order that deeper analysis could be performed."
   ]
  },
  {
   "attachments": {},
   "cell_type": "markdown",
   "metadata": {},
   "source": [
    "In order to minimized the effect of product price' scale , we will normalized the price-MSRP difference by dividing the difference with the selling price."
   ]
  },
  {
   "cell_type": "code",
   "execution_count": 142,
   "metadata": {},
   "outputs": [
    {
     "data": {
      "text/html": [
       "<div>\n",
       "<style scoped>\n",
       "    .dataframe tbody tr th:only-of-type {\n",
       "        vertical-align: middle;\n",
       "    }\n",
       "\n",
       "    .dataframe tbody tr th {\n",
       "        vertical-align: top;\n",
       "    }\n",
       "\n",
       "    .dataframe thead th {\n",
       "        text-align: right;\n",
       "    }\n",
       "</style>\n",
       "<table border=\"1\" class=\"dataframe\">\n",
       "  <thead>\n",
       "    <tr style=\"text-align: right;\">\n",
       "      <th></th>\n",
       "      <th>ProductID</th>\n",
       "      <th>Product name</th>\n",
       "      <th>Product Category</th>\n",
       "      <th>Date</th>\n",
       "      <th>Zip</th>\n",
       "      <th>Units</th>\n",
       "      <th>Revenue</th>\n",
       "      <th>Revenue per unit</th>\n",
       "      <th>MSRP (USD)</th>\n",
       "      <th>Revenue minus MSRP</th>\n",
       "      <th>Manufacturer</th>\n",
       "      <th>Manufacturer ID</th>\n",
       "      <th>Country</th>\n",
       "      <th>revenue-MSRP difference in fraction</th>\n",
       "    </tr>\n",
       "  </thead>\n",
       "  <tbody>\n",
       "    <tr>\n",
       "      <th>0</th>\n",
       "      <td>1450</td>\n",
       "      <td>Quibus RP-42</td>\n",
       "      <td>Urban</td>\n",
       "      <td>2017-09-21</td>\n",
       "      <td>2730</td>\n",
       "      <td>5</td>\n",
       "      <td>726.6000</td>\n",
       "      <td>145.32</td>\n",
       "      <td>152.15</td>\n",
       "      <td>-6.83</td>\n",
       "      <td>Quibus</td>\n",
       "      <td>12</td>\n",
       "      <td>Mexico</td>\n",
       "      <td>-0.047000</td>\n",
       "    </tr>\n",
       "    <tr>\n",
       "      <th>1</th>\n",
       "      <td>1449</td>\n",
       "      <td>Quibus RP-41</td>\n",
       "      <td>Urban</td>\n",
       "      <td>2017-09-21</td>\n",
       "      <td>2730</td>\n",
       "      <td>5</td>\n",
       "      <td>726.6000</td>\n",
       "      <td>145.32</td>\n",
       "      <td>152.15</td>\n",
       "      <td>-6.83</td>\n",
       "      <td>Quibus</td>\n",
       "      <td>12</td>\n",
       "      <td>Mexico</td>\n",
       "      <td>-0.047000</td>\n",
       "    </tr>\n",
       "    <tr>\n",
       "      <th>2</th>\n",
       "      <td>780</td>\n",
       "      <td>Natura RP-68</td>\n",
       "      <td>Rural</td>\n",
       "      <td>2019-02-28</td>\n",
       "      <td>7007</td>\n",
       "      <td>9</td>\n",
       "      <td>3023.5275</td>\n",
       "      <td>335.95</td>\n",
       "      <td>389.03</td>\n",
       "      <td>-53.08</td>\n",
       "      <td>Natura</td>\n",
       "      <td>8</td>\n",
       "      <td>Australia</td>\n",
       "      <td>-0.158000</td>\n",
       "    </tr>\n",
       "    <tr>\n",
       "      <th>3</th>\n",
       "      <td>780</td>\n",
       "      <td>Natura RP-68</td>\n",
       "      <td>Rural</td>\n",
       "      <td>2017-06-08</td>\n",
       "      <td>1781</td>\n",
       "      <td>19</td>\n",
       "      <td>5984.0025</td>\n",
       "      <td>314.95</td>\n",
       "      <td>389.03</td>\n",
       "      <td>-74.08</td>\n",
       "      <td>Natura</td>\n",
       "      <td>8</td>\n",
       "      <td>Australia</td>\n",
       "      <td>-0.235212</td>\n",
       "    </tr>\n",
       "    <tr>\n",
       "      <th>4</th>\n",
       "      <td>396</td>\n",
       "      <td>Maximus UM-01</td>\n",
       "      <td>Urban</td>\n",
       "      <td>2019-09-08</td>\n",
       "      <td>2103</td>\n",
       "      <td>8</td>\n",
       "      <td>7562.1000</td>\n",
       "      <td>945.26</td>\n",
       "      <td>950.51</td>\n",
       "      <td>-5.25</td>\n",
       "      <td>VanArsdel</td>\n",
       "      <td>7</td>\n",
       "      <td>Australia</td>\n",
       "      <td>-0.005554</td>\n",
       "    </tr>\n",
       "  </tbody>\n",
       "</table>\n",
       "</div>"
      ],
      "text/plain": [
       "   ProductID   Product name Product Category       Date   Zip  Units  \\\n",
       "0       1450   Quibus RP-42            Urban 2017-09-21  2730      5   \n",
       "1       1449   Quibus RP-41            Urban 2017-09-21  2730      5   \n",
       "2        780   Natura RP-68            Rural 2019-02-28  7007      9   \n",
       "3        780   Natura RP-68            Rural 2017-06-08  1781     19   \n",
       "4        396  Maximus UM-01            Urban 2019-09-08  2103      8   \n",
       "\n",
       "     Revenue  Revenue per unit  MSRP (USD)  Revenue minus MSRP Manufacturer  \\\n",
       "0   726.6000            145.32      152.15               -6.83       Quibus   \n",
       "1   726.6000            145.32      152.15               -6.83       Quibus   \n",
       "2  3023.5275            335.95      389.03              -53.08       Natura   \n",
       "3  5984.0025            314.95      389.03              -74.08       Natura   \n",
       "4  7562.1000            945.26      950.51               -5.25    VanArsdel   \n",
       "\n",
       "   Manufacturer ID    Country  revenue-MSRP difference in fraction  \n",
       "0               12     Mexico                            -0.047000  \n",
       "1               12     Mexico                            -0.047000  \n",
       "2                8  Australia                            -0.158000  \n",
       "3                8  Australia                            -0.235212  \n",
       "4                7  Australia                            -0.005554  "
      ]
     },
     "execution_count": 142,
     "metadata": {},
     "output_type": "execute_result"
    }
   ],
   "source": [
    "sales_df['revenue-MSRP difference in fraction'] = sales_df['Revenue minus MSRP']/sales_df['Revenue per unit']\n",
    "sales_df.head()"
   ]
  },
  {
   "cell_type": "code",
   "execution_count": 143,
   "metadata": {},
   "outputs": [
    {
     "data": {
      "image/png": "[encoded data removed]",
      "text/plain": [
       "<Figure size 864x576 with 1 Axes>"
      ]
     },
     "metadata": {
      "needs_background": "light"
     },
     "output_type": "display_data"
    }
   ],
   "source": [
    "\n",
    "plt.figure(figsize=(12, 8))\n",
    "for i, color in zip(sales_df['Product Category'].unique(), ['r', 'goldenrod', 'blue']):\n",
    "    sns.kdeplot(sales_df[sales_df['Product Category'] == i]['revenue-MSRP difference in fraction'], \n",
    "                color=color, label = i)\n",
    "plt.legend()\n",
    "plt.title('Distribution of revenue/MSRP difference (scaled)')\n",
    "plt.xlim((sales_df['revenue-MSRP difference in fraction'].quantile(0.05), \n",
    "            sales_df['revenue-MSRP difference in fraction'].max() + 0.5))\n",
    "plt.show()"
   ]
  },
  {
   "attachments": {},
   "cell_type": "markdown",
   "metadata": {},
   "source": [
    "Even after scaling the difference as fraction, we still observe the urban products were likely to priced as lower suggested price as MSRP. \n",
    "\n",
    "Possible reasons are as follows:\n",
    "* Manufacturers of urban products failed to estimate a MSRP prices reflecting the market values.\n",
    "* Sellers had stocked abundant urban products, resulting in lower final selling prices due to discounts, clearance etc."
   ]
  },
  {
   "cell_type": "markdown",
   "metadata": {},
   "source": [
    "### Time-series analysis "
   ]
  },
  {
   "attachments": {},
   "cell_type": "markdown",
   "metadata": {},
   "source": [
    "In this section, we aim to examine the consistency of data entry, by examining the date of trasactions. It is possible that the data entries was biased, and not all transactions had been recorded. However, this results is impossible to determine, (if we have the knowledge of missing entries, it won't be a missing entries in the begining). This problem resembles the issue of [survivor bias](https://en.wikipedia.org/wiki/Survivorship_bias), and we aim to examing the absents of data entries instead."
   ]
  },
  {
   "cell_type": "code",
   "execution_count": 144,
   "metadata": {},
   "outputs": [],
   "source": [
    "# Resample the dataframe, resulting each row as a day\n",
    "# Aggregation function of count was used, each values representing the number of transaction recorded\n",
    "# in each day.\n",
    "sales_time_df = sales_df.set_index('Date')[['ProductID']].resample('d').count()\n",
    "\n",
    "# Converting the values as 1 if any transaction was recorded, 0 otherwise\n",
    "sales_time_df['ProductID'] = sales_time_df.apply(lambda x: 1 if x['ProductID'] > 0 else 0, axis = 1)\n",
    "sales_time_df.index = sales_time_df.index.strftime('%Y-%m-%d')"
   ]
  },
  {
   "attachments": {},
   "cell_type": "markdown",
   "metadata": {},
   "source": [
    "Let's have a look at the distributions:\n",
    "\n",
    "Out of 1095 days recorded, only 12 days were absent."
   ]
  },
  {
   "cell_type": "code",
   "execution_count": 145,
   "metadata": {},
   "outputs": [
    {
     "data": {
      "text/plain": [
       "ProductID\n",
       "1            1083\n",
       "0              12\n",
       "dtype: int64"
      ]
     },
     "execution_count": 145,
     "metadata": {},
     "output_type": "execute_result"
    }
   ],
   "source": [
    "sales_time_df.value_counts()"
   ]
  },
  {
   "cell_type": "code",
   "execution_count": 146,
   "metadata": {},
   "outputs": [
    {
     "data": {
      "text/plain": [
       "ProductID\n",
       "1            0.989041\n",
       "0            0.010959\n",
       "dtype: float64"
      ]
     },
     "execution_count": 146,
     "metadata": {},
     "output_type": "execute_result"
    }
   ],
   "source": [
    "\n",
    "sales_time_df.value_counts(normalize=True)"
   ]
  },
  {
   "attachments": {},
   "cell_type": "markdown",
   "metadata": {},
   "source": [
    "Which rougly translates to 1% of missing data."
   ]
  },
  {
   "cell_type": "code",
   "execution_count": 147,
   "metadata": {},
   "outputs": [
    {
     "data": {
      "text/html": [
       "<div>\n",
       "<style scoped>\n",
       "    .dataframe tbody tr th:only-of-type {\n",
       "        vertical-align: middle;\n",
       "    }\n",
       "\n",
       "    .dataframe tbody tr th {\n",
       "        vertical-align: top;\n",
       "    }\n",
       "\n",
       "    .dataframe thead th {\n",
       "        text-align: right;\n",
       "    }\n",
       "</style>\n",
       "<table border=\"1\" class=\"dataframe\">\n",
       "  <thead>\n",
       "    <tr style=\"text-align: right;\">\n",
       "      <th></th>\n",
       "      <th>ProductID</th>\n",
       "    </tr>\n",
       "    <tr>\n",
       "      <th>Date</th>\n",
       "      <th></th>\n",
       "    </tr>\n",
       "  </thead>\n",
       "  <tbody>\n",
       "    <tr>\n",
       "      <th>2017-01-04</th>\n",
       "      <td>0</td>\n",
       "    </tr>\n",
       "    <tr>\n",
       "      <th>2017-01-11</th>\n",
       "      <td>0</td>\n",
       "    </tr>\n",
       "    <tr>\n",
       "      <th>2017-01-18</th>\n",
       "      <td>0</td>\n",
       "    </tr>\n",
       "    <tr>\n",
       "      <th>2017-02-08</th>\n",
       "      <td>0</td>\n",
       "    </tr>\n",
       "    <tr>\n",
       "      <th>2017-02-22</th>\n",
       "      <td>0</td>\n",
       "    </tr>\n",
       "    <tr>\n",
       "      <th>2017-07-11</th>\n",
       "      <td>0</td>\n",
       "    </tr>\n",
       "    <tr>\n",
       "      <th>2017-07-18</th>\n",
       "      <td>0</td>\n",
       "    </tr>\n",
       "    <tr>\n",
       "      <th>2017-07-25</th>\n",
       "      <td>0</td>\n",
       "    </tr>\n",
       "    <tr>\n",
       "      <th>2017-08-01</th>\n",
       "      <td>0</td>\n",
       "    </tr>\n",
       "    <tr>\n",
       "      <th>2017-08-08</th>\n",
       "      <td>0</td>\n",
       "    </tr>\n",
       "    <tr>\n",
       "      <th>2017-08-22</th>\n",
       "      <td>0</td>\n",
       "    </tr>\n",
       "    <tr>\n",
       "      <th>2017-08-29</th>\n",
       "      <td>0</td>\n",
       "    </tr>\n",
       "  </tbody>\n",
       "</table>\n",
       "</div>"
      ],
      "text/plain": [
       "            ProductID\n",
       "Date                 \n",
       "2017-01-04          0\n",
       "2017-01-11          0\n",
       "2017-01-18          0\n",
       "2017-02-08          0\n",
       "2017-02-22          0\n",
       "2017-07-11          0\n",
       "2017-07-18          0\n",
       "2017-07-25          0\n",
       "2017-08-01          0\n",
       "2017-08-08          0\n",
       "2017-08-22          0\n",
       "2017-08-29          0"
      ]
     },
     "execution_count": 147,
     "metadata": {},
     "output_type": "execute_result"
    }
   ],
   "source": [
    "sales_time_df[sales_time_df['ProductID'] == 0]"
   ]
  },
  {
   "cell_type": "code",
   "execution_count": 148,
   "metadata": {},
   "outputs": [
    {
     "data": {
      "text/plain": [
       "<AxesSubplot:xlabel='ProductID'>"
      ]
     },
     "execution_count": 148,
     "metadata": {},
     "output_type": "execute_result"
    },
    {
     "data": {
      "image/png": "[encoded data removed]",
      "text/plain": [
       "<Figure size 432x288 with 1 Axes>"
      ]
     },
     "metadata": {
      "needs_background": "light"
     },
     "output_type": "display_data"
    }
   ],
   "source": [
    "\n",
    "sales_time_df.value_counts().plot(kind='bar')"
   ]
  },
  {
   "cell_type": "code",
   "execution_count": 149,
   "metadata": {},
   "outputs": [
    {
     "data": {
      "image/png": "[encoded data removed]",
      "text/plain": [
       "<Figure size 1296x432 with 2 Axes>"
      ]
     },
     "metadata": {
      "needs_background": "light"
     },
     "output_type": "display_data"
    }
   ],
   "source": [
    "plt.figure(figsize = (18, 6))\n",
    "s = sns.heatmap(sales_time_df.T, yticklabels=[''])\n",
    "plt.title('Date with missing data entries')\n",
    "plt.show()\n"
   ]
  },
  {
   "attachments": {},
   "cell_type": "markdown",
   "metadata": {},
   "source": [
    "From the heatmap above, we fail to observe outstanding pattern that indicates that the missing of data entries was due to mistake in data entries. The evenly spaced date from 2017-07-16 to 2017-08-27 does raise some concerns, however, we do not possess enough evidence in proving the claim.\n"
   ]
  },
  {
   "attachments": {},
   "cell_type": "markdown",
   "metadata": {},
   "source": [
    "Now that we have investigate the missing data entries, let's have a look at the exact counts by dates."
   ]
  },
  {
   "cell_type": "code",
   "execution_count": 150,
   "metadata": {},
   "outputs": [
    {
     "data": {
      "text/html": [
       "<div>\n",
       "<style scoped>\n",
       "    .dataframe tbody tr th:only-of-type {\n",
       "        vertical-align: middle;\n",
       "    }\n",
       "\n",
       "    .dataframe tbody tr th {\n",
       "        vertical-align: top;\n",
       "    }\n",
       "\n",
       "    .dataframe thead th {\n",
       "        text-align: right;\n",
       "    }\n",
       "</style>\n",
       "<table border=\"1\" class=\"dataframe\">\n",
       "  <thead>\n",
       "    <tr style=\"text-align: right;\">\n",
       "      <th></th>\n",
       "      <th>ProductID</th>\n",
       "    </tr>\n",
       "    <tr>\n",
       "      <th>Date</th>\n",
       "      <th></th>\n",
       "    </tr>\n",
       "  </thead>\n",
       "  <tbody>\n",
       "    <tr>\n",
       "      <th>2017-01</th>\n",
       "      <td>2002</td>\n",
       "    </tr>\n",
       "    <tr>\n",
       "      <th>2017-02</th>\n",
       "      <td>2457</td>\n",
       "    </tr>\n",
       "    <tr>\n",
       "      <th>2017-03</th>\n",
       "      <td>3169</td>\n",
       "    </tr>\n",
       "    <tr>\n",
       "      <th>2017-04</th>\n",
       "      <td>3282</td>\n",
       "    </tr>\n",
       "    <tr>\n",
       "      <th>2017-05</th>\n",
       "      <td>3079</td>\n",
       "    </tr>\n",
       "  </tbody>\n",
       "</table>\n",
       "</div>"
      ],
      "text/plain": [
       "         ProductID\n",
       "Date              \n",
       "2017-01       2002\n",
       "2017-02       2457\n",
       "2017-03       3169\n",
       "2017-04       3282\n",
       "2017-05       3079"
      ]
     },
     "execution_count": 150,
     "metadata": {},
     "output_type": "execute_result"
    }
   ],
   "source": [
    "# Resampling the dataframe to one day per row, aggregrating the values as the number of \n",
    "# transaction recoded in each day.\n",
    "sales_time_count_df = sales_df.set_index('Date')[['ProductID']].resample('M').count()\n",
    "\n",
    "# Extracting simpler date format\n",
    "sales_time_count_df.index = sales_time_count_df.index.strftime('%Y-%m')\n",
    "sales_time_count_df.head()"
   ]
  },
  {
   "cell_type": "code",
   "execution_count": 165,
   "metadata": {},
   "outputs": [
    {
     "name": "stderr",
     "output_type": "stream",
     "text": [
      "/home/shiya/anaconda3/lib/python3.9/site-packages/seaborn/_decorators.py:36: FutureWarning: Pass the following variables as keyword args: x, y. From version 0.12, the only valid positional argument will be `data`, and passing other arguments without an explicit keyword will result in an error or misinterpretation.\n",
      "  warnings.warn(\n"
     ]
    },
    {
     "data": {
      "image/png": "[encoded data removed]",
      "text/plain": [
       "<Figure size 864x720 with 1 Axes>"
      ]
     },
     "metadata": {
      "needs_background": "light"
     },
     "output_type": "display_data"
    }
   ],
   "source": [
    "plt.figure(figsize= (12, 10))\n",
    "sns.lineplot(sales_time_count_df.index, sales_time_count_df['ProductID'])\n",
    "plt.xticks(sales_time_count_df.index[::3])\n",
    "plt.grid(True)\n",
    "plt.title('Seasonality of transaction count')\n",
    "plt.ylabel('Number of transcaction per day')\n",
    "plt.show()"
   ]
  },
  {
   "attachments": {},
   "cell_type": "markdown",
   "metadata": {},
   "source": [
    "From the figure above, we observe that thre is a reapeating pattern in the sales for each year, with number of transasction peaked around April and December, and the number of sales had a significant dips starting from July each year and January.\n",
    "\n",
    ">> The seasonality of sales raise some questions regarding the data set, particularly:\n",
    "\n",
    "* What sales data are we looking at, since most of the sales came from the US (from our previous [Tableau analysis](https://public.tableau.com/views/Manufacture_16758604899000/Revenuesgeneratedbycountries?:language=en-US&:display_count=n&:origin=viz_share_link)). The products sold were likely unpopular after gifting season (December - Christmas, April - Easter) "
   ]
  },
  {
   "cell_type": "code",
   "execution_count": 152,
   "metadata": {},
   "outputs": [
    {
     "data": {
      "text/html": [
       "<div>\n",
       "<style scoped>\n",
       "    .dataframe tbody tr th:only-of-type {\n",
       "        vertical-align: middle;\n",
       "    }\n",
       "\n",
       "    .dataframe tbody tr th {\n",
       "        vertical-align: top;\n",
       "    }\n",
       "\n",
       "    .dataframe thead th {\n",
       "        text-align: right;\n",
       "    }\n",
       "</style>\n",
       "<table border=\"1\" class=\"dataframe\">\n",
       "  <thead>\n",
       "    <tr style=\"text-align: right;\">\n",
       "      <th></th>\n",
       "      <th>ProductID</th>\n",
       "      <th>Product name</th>\n",
       "      <th>Product Category</th>\n",
       "      <th>Date</th>\n",
       "      <th>Zip</th>\n",
       "      <th>Units</th>\n",
       "      <th>Revenue</th>\n",
       "      <th>Revenue per unit</th>\n",
       "      <th>MSRP (USD)</th>\n",
       "      <th>Revenue minus MSRP</th>\n",
       "      <th>Manufacturer</th>\n",
       "      <th>Manufacturer ID</th>\n",
       "      <th>Country</th>\n",
       "      <th>revenue-MSRP difference in fraction</th>\n",
       "    </tr>\n",
       "  </thead>\n",
       "  <tbody>\n",
       "    <tr>\n",
       "      <th>0</th>\n",
       "      <td>1450</td>\n",
       "      <td>Quibus RP-42</td>\n",
       "      <td>Urban</td>\n",
       "      <td>2017-09-21</td>\n",
       "      <td>2730</td>\n",
       "      <td>5</td>\n",
       "      <td>726.6000</td>\n",
       "      <td>145.32</td>\n",
       "      <td>152.15</td>\n",
       "      <td>-6.83</td>\n",
       "      <td>Quibus</td>\n",
       "      <td>12</td>\n",
       "      <td>Mexico</td>\n",
       "      <td>-0.047000</td>\n",
       "    </tr>\n",
       "    <tr>\n",
       "      <th>1</th>\n",
       "      <td>1449</td>\n",
       "      <td>Quibus RP-41</td>\n",
       "      <td>Urban</td>\n",
       "      <td>2017-09-21</td>\n",
       "      <td>2730</td>\n",
       "      <td>5</td>\n",
       "      <td>726.6000</td>\n",
       "      <td>145.32</td>\n",
       "      <td>152.15</td>\n",
       "      <td>-6.83</td>\n",
       "      <td>Quibus</td>\n",
       "      <td>12</td>\n",
       "      <td>Mexico</td>\n",
       "      <td>-0.047000</td>\n",
       "    </tr>\n",
       "    <tr>\n",
       "      <th>2</th>\n",
       "      <td>780</td>\n",
       "      <td>Natura RP-68</td>\n",
       "      <td>Rural</td>\n",
       "      <td>2019-02-28</td>\n",
       "      <td>7007</td>\n",
       "      <td>9</td>\n",
       "      <td>3023.5275</td>\n",
       "      <td>335.95</td>\n",
       "      <td>389.03</td>\n",
       "      <td>-53.08</td>\n",
       "      <td>Natura</td>\n",
       "      <td>8</td>\n",
       "      <td>Australia</td>\n",
       "      <td>-0.158000</td>\n",
       "    </tr>\n",
       "    <tr>\n",
       "      <th>3</th>\n",
       "      <td>780</td>\n",
       "      <td>Natura RP-68</td>\n",
       "      <td>Rural</td>\n",
       "      <td>2017-06-08</td>\n",
       "      <td>1781</td>\n",
       "      <td>19</td>\n",
       "      <td>5984.0025</td>\n",
       "      <td>314.95</td>\n",
       "      <td>389.03</td>\n",
       "      <td>-74.08</td>\n",
       "      <td>Natura</td>\n",
       "      <td>8</td>\n",
       "      <td>Australia</td>\n",
       "      <td>-0.235212</td>\n",
       "    </tr>\n",
       "    <tr>\n",
       "      <th>4</th>\n",
       "      <td>396</td>\n",
       "      <td>Maximus UM-01</td>\n",
       "      <td>Urban</td>\n",
       "      <td>2019-09-08</td>\n",
       "      <td>2103</td>\n",
       "      <td>8</td>\n",
       "      <td>7562.1000</td>\n",
       "      <td>945.26</td>\n",
       "      <td>950.51</td>\n",
       "      <td>-5.25</td>\n",
       "      <td>VanArsdel</td>\n",
       "      <td>7</td>\n",
       "      <td>Australia</td>\n",
       "      <td>-0.005554</td>\n",
       "    </tr>\n",
       "  </tbody>\n",
       "</table>\n",
       "</div>"
      ],
      "text/plain": [
       "   ProductID   Product name Product Category       Date   Zip  Units  \\\n",
       "0       1450   Quibus RP-42            Urban 2017-09-21  2730      5   \n",
       "1       1449   Quibus RP-41            Urban 2017-09-21  2730      5   \n",
       "2        780   Natura RP-68            Rural 2019-02-28  7007      9   \n",
       "3        780   Natura RP-68            Rural 2017-06-08  1781     19   \n",
       "4        396  Maximus UM-01            Urban 2019-09-08  2103      8   \n",
       "\n",
       "     Revenue  Revenue per unit  MSRP (USD)  Revenue minus MSRP Manufacturer  \\\n",
       "0   726.6000            145.32      152.15               -6.83       Quibus   \n",
       "1   726.6000            145.32      152.15               -6.83       Quibus   \n",
       "2  3023.5275            335.95      389.03              -53.08       Natura   \n",
       "3  5984.0025            314.95      389.03              -74.08       Natura   \n",
       "4  7562.1000            945.26      950.51               -5.25    VanArsdel   \n",
       "\n",
       "   Manufacturer ID    Country  revenue-MSRP difference in fraction  \n",
       "0               12     Mexico                            -0.047000  \n",
       "1               12     Mexico                            -0.047000  \n",
       "2                8  Australia                            -0.158000  \n",
       "3                8  Australia                            -0.235212  \n",
       "4                7  Australia                            -0.005554  "
      ]
     },
     "execution_count": 152,
     "metadata": {},
     "output_type": "execute_result"
    }
   ],
   "source": [
    "sales_df.head()"
   ]
  },
  {
   "cell_type": "code",
   "execution_count": 153,
   "metadata": {},
   "outputs": [
    {
     "name": "stdout",
     "output_type": "stream",
     "text": [
      "Zip,City,State,Region,District,Country,,,\n",
      "68274,,Oaxaca,,Oaxaca de Juarez,Mexico,,,\n",
      "68275,,Oaxaca,,Oaxaca de Juarez,Mexico,,,\n",
      "68276,,Oaxaca,,Oaxaca de Juarez,Mexico,,,Unique number of Cities:\n",
      "71512,,Oaxaca,,Ocotlan de Morelos,Mexico,,,90394\n"
     ]
    }
   ],
   "source": [
    "!head -5 manufacture_geo.csv"
   ]
  },
  {
   "cell_type": "code",
   "execution_count": 154,
   "metadata": {},
   "outputs": [
    {
     "data": {
      "text/plain": [
       "'ISO-8859-1'"
      ]
     },
     "execution_count": 154,
     "metadata": {},
     "output_type": "execute_result"
    }
   ],
   "source": [
    "import chardet\n",
    "\n",
    "with open('manufacture_geo.csv', 'rb') as file:\n",
    "    result = chardet.detect(file.read())\n",
    "\n",
    "result['encoding']"
   ]
  },
  {
   "cell_type": "code",
   "execution_count": 155,
   "metadata": {},
   "outputs": [
    {
     "name": "stderr",
     "output_type": "stream",
     "text": [
      "/home/shiya/.local/lib/python3.9/site-packages/IPython/core/interactiveshell.py:3398: DtypeWarning: Columns (3) have mixed types.Specify dtype option on import or set low_memory=False.\n",
      "  exec(code_obj, self.user_global_ns, self.user_ns)\n"
     ]
    },
    {
     "data": {
      "text/html": [
       "<div>\n",
       "<style scoped>\n",
       "    .dataframe tbody tr th:only-of-type {\n",
       "        vertical-align: middle;\n",
       "    }\n",
       "\n",
       "    .dataframe tbody tr th {\n",
       "        vertical-align: top;\n",
       "    }\n",
       "\n",
       "    .dataframe thead th {\n",
       "        text-align: right;\n",
       "    }\n",
       "</style>\n",
       "<table border=\"1\" class=\"dataframe\">\n",
       "  <thead>\n",
       "    <tr style=\"text-align: right;\">\n",
       "      <th></th>\n",
       "      <th>Zip</th>\n",
       "      <th>City</th>\n",
       "      <th>State</th>\n",
       "      <th>Region</th>\n",
       "      <th>District</th>\n",
       "      <th>Country</th>\n",
       "    </tr>\n",
       "  </thead>\n",
       "  <tbody>\n",
       "    <tr>\n",
       "      <th>0</th>\n",
       "      <td>68274</td>\n",
       "      <td>NaN</td>\n",
       "      <td>Oaxaca</td>\n",
       "      <td>NaN</td>\n",
       "      <td>Oaxaca de Juarez</td>\n",
       "      <td>Mexico</td>\n",
       "    </tr>\n",
       "    <tr>\n",
       "      <th>1</th>\n",
       "      <td>68275</td>\n",
       "      <td>NaN</td>\n",
       "      <td>Oaxaca</td>\n",
       "      <td>NaN</td>\n",
       "      <td>Oaxaca de Juarez</td>\n",
       "      <td>Mexico</td>\n",
       "    </tr>\n",
       "    <tr>\n",
       "      <th>2</th>\n",
       "      <td>68276</td>\n",
       "      <td>NaN</td>\n",
       "      <td>Oaxaca</td>\n",
       "      <td>NaN</td>\n",
       "      <td>Oaxaca de Juarez</td>\n",
       "      <td>Mexico</td>\n",
       "    </tr>\n",
       "    <tr>\n",
       "      <th>3</th>\n",
       "      <td>71512</td>\n",
       "      <td>NaN</td>\n",
       "      <td>Oaxaca</td>\n",
       "      <td>NaN</td>\n",
       "      <td>Ocotlan de Morelos</td>\n",
       "      <td>Mexico</td>\n",
       "    </tr>\n",
       "    <tr>\n",
       "      <th>4</th>\n",
       "      <td>71513</td>\n",
       "      <td>NaN</td>\n",
       "      <td>Oaxaca</td>\n",
       "      <td>NaN</td>\n",
       "      <td>Ocotlan de Morelos</td>\n",
       "      <td>Mexico</td>\n",
       "    </tr>\n",
       "  </tbody>\n",
       "</table>\n",
       "</div>"
      ],
      "text/plain": [
       "     Zip City   State Region            District Country\n",
       "0  68274  NaN  Oaxaca    NaN    Oaxaca de Juarez  Mexico\n",
       "1  68275  NaN  Oaxaca    NaN    Oaxaca de Juarez  Mexico\n",
       "2  68276  NaN  Oaxaca    NaN    Oaxaca de Juarez  Mexico\n",
       "3  71512  NaN  Oaxaca    NaN  Ocotlan de Morelos  Mexico\n",
       "4  71513  NaN  Oaxaca    NaN  Ocotlan de Morelos  Mexico"
      ]
     },
     "execution_count": 155,
     "metadata": {},
     "output_type": "execute_result"
    }
   ],
   "source": [
    "geo_df = pd.read_csv('manufacture_geo.csv', usecols=list(range(6)), encoding='ISO-8859-1')\n",
    "geo_df.head()"
   ]
  },
  {
   "cell_type": "code",
   "execution_count": 156,
   "metadata": {},
   "outputs": [
    {
     "data": {
      "text/html": [
       "<div>\n",
       "<style scoped>\n",
       "    .dataframe tbody tr th:only-of-type {\n",
       "        vertical-align: middle;\n",
       "    }\n",
       "\n",
       "    .dataframe tbody tr th {\n",
       "        vertical-align: top;\n",
       "    }\n",
       "\n",
       "    .dataframe thead th {\n",
       "        text-align: right;\n",
       "    }\n",
       "</style>\n",
       "<table border=\"1\" class=\"dataframe\">\n",
       "  <thead>\n",
       "    <tr style=\"text-align: right;\">\n",
       "      <th></th>\n",
       "      <th>ProductID</th>\n",
       "      <th>Product name</th>\n",
       "      <th>Product Category</th>\n",
       "      <th>Date</th>\n",
       "      <th>Zip</th>\n",
       "      <th>Units</th>\n",
       "      <th>Revenue</th>\n",
       "      <th>Revenue per unit</th>\n",
       "      <th>MSRP (USD)</th>\n",
       "      <th>Revenue minus MSRP</th>\n",
       "      <th>Manufacturer</th>\n",
       "      <th>Manufacturer ID</th>\n",
       "      <th>Country</th>\n",
       "      <th>revenue-MSRP difference in fraction</th>\n",
       "    </tr>\n",
       "  </thead>\n",
       "  <tbody>\n",
       "    <tr>\n",
       "      <th>0</th>\n",
       "      <td>1450</td>\n",
       "      <td>Quibus RP-42</td>\n",
       "      <td>Urban</td>\n",
       "      <td>2017-09-21</td>\n",
       "      <td>2730</td>\n",
       "      <td>5</td>\n",
       "      <td>726.6000</td>\n",
       "      <td>145.32</td>\n",
       "      <td>152.15</td>\n",
       "      <td>-6.83</td>\n",
       "      <td>Quibus</td>\n",
       "      <td>12</td>\n",
       "      <td>Mexico</td>\n",
       "      <td>-0.047000</td>\n",
       "    </tr>\n",
       "    <tr>\n",
       "      <th>1</th>\n",
       "      <td>1449</td>\n",
       "      <td>Quibus RP-41</td>\n",
       "      <td>Urban</td>\n",
       "      <td>2017-09-21</td>\n",
       "      <td>2730</td>\n",
       "      <td>5</td>\n",
       "      <td>726.6000</td>\n",
       "      <td>145.32</td>\n",
       "      <td>152.15</td>\n",
       "      <td>-6.83</td>\n",
       "      <td>Quibus</td>\n",
       "      <td>12</td>\n",
       "      <td>Mexico</td>\n",
       "      <td>-0.047000</td>\n",
       "    </tr>\n",
       "    <tr>\n",
       "      <th>2</th>\n",
       "      <td>780</td>\n",
       "      <td>Natura RP-68</td>\n",
       "      <td>Rural</td>\n",
       "      <td>2019-02-28</td>\n",
       "      <td>7007</td>\n",
       "      <td>9</td>\n",
       "      <td>3023.5275</td>\n",
       "      <td>335.95</td>\n",
       "      <td>389.03</td>\n",
       "      <td>-53.08</td>\n",
       "      <td>Natura</td>\n",
       "      <td>8</td>\n",
       "      <td>Australia</td>\n",
       "      <td>-0.158000</td>\n",
       "    </tr>\n",
       "    <tr>\n",
       "      <th>3</th>\n",
       "      <td>780</td>\n",
       "      <td>Natura RP-68</td>\n",
       "      <td>Rural</td>\n",
       "      <td>2017-06-08</td>\n",
       "      <td>1781</td>\n",
       "      <td>19</td>\n",
       "      <td>5984.0025</td>\n",
       "      <td>314.95</td>\n",
       "      <td>389.03</td>\n",
       "      <td>-74.08</td>\n",
       "      <td>Natura</td>\n",
       "      <td>8</td>\n",
       "      <td>Australia</td>\n",
       "      <td>-0.235212</td>\n",
       "    </tr>\n",
       "    <tr>\n",
       "      <th>4</th>\n",
       "      <td>396</td>\n",
       "      <td>Maximus UM-01</td>\n",
       "      <td>Urban</td>\n",
       "      <td>2019-09-08</td>\n",
       "      <td>2103</td>\n",
       "      <td>8</td>\n",
       "      <td>7562.1000</td>\n",
       "      <td>945.26</td>\n",
       "      <td>950.51</td>\n",
       "      <td>-5.25</td>\n",
       "      <td>VanArsdel</td>\n",
       "      <td>7</td>\n",
       "      <td>Australia</td>\n",
       "      <td>-0.005554</td>\n",
       "    </tr>\n",
       "  </tbody>\n",
       "</table>\n",
       "</div>"
      ],
      "text/plain": [
       "   ProductID   Product name Product Category       Date   Zip  Units  \\\n",
       "0       1450   Quibus RP-42            Urban 2017-09-21  2730      5   \n",
       "1       1449   Quibus RP-41            Urban 2017-09-21  2730      5   \n",
       "2        780   Natura RP-68            Rural 2019-02-28  7007      9   \n",
       "3        780   Natura RP-68            Rural 2017-06-08  1781     19   \n",
       "4        396  Maximus UM-01            Urban 2019-09-08  2103      8   \n",
       "\n",
       "     Revenue  Revenue per unit  MSRP (USD)  Revenue minus MSRP Manufacturer  \\\n",
       "0   726.6000            145.32      152.15               -6.83       Quibus   \n",
       "1   726.6000            145.32      152.15               -6.83       Quibus   \n",
       "2  3023.5275            335.95      389.03              -53.08       Natura   \n",
       "3  5984.0025            314.95      389.03              -74.08       Natura   \n",
       "4  7562.1000            945.26      950.51               -5.25    VanArsdel   \n",
       "\n",
       "   Manufacturer ID    Country  revenue-MSRP difference in fraction  \n",
       "0               12     Mexico                            -0.047000  \n",
       "1               12     Mexico                            -0.047000  \n",
       "2                8  Australia                            -0.158000  \n",
       "3                8  Australia                            -0.235212  \n",
       "4                7  Australia                            -0.005554  "
      ]
     },
     "execution_count": 156,
     "metadata": {},
     "output_type": "execute_result"
    }
   ],
   "source": [
    "sales_df.head()"
   ]
  },
  {
   "cell_type": "code",
   "execution_count": 157,
   "metadata": {},
   "outputs": [
    {
     "data": {
      "text/html": [
       "<div>\n",
       "<style scoped>\n",
       "    .dataframe tbody tr th:only-of-type {\n",
       "        vertical-align: middle;\n",
       "    }\n",
       "\n",
       "    .dataframe tbody tr th {\n",
       "        vertical-align: top;\n",
       "    }\n",
       "\n",
       "    .dataframe thead th {\n",
       "        text-align: right;\n",
       "    }\n",
       "</style>\n",
       "<table border=\"1\" class=\"dataframe\">\n",
       "  <thead>\n",
       "    <tr style=\"text-align: right;\">\n",
       "      <th></th>\n",
       "      <th>ProductID</th>\n",
       "      <th>Product name</th>\n",
       "      <th>Product Category</th>\n",
       "      <th>Date</th>\n",
       "      <th>Zip</th>\n",
       "      <th>Units</th>\n",
       "      <th>Revenue</th>\n",
       "      <th>Revenue per unit</th>\n",
       "      <th>MSRP (USD)</th>\n",
       "      <th>Revenue minus MSRP</th>\n",
       "      <th>Manufacturer</th>\n",
       "      <th>Manufacturer ID</th>\n",
       "      <th>Country</th>\n",
       "      <th>revenue-MSRP difference in fraction</th>\n",
       "      <th>City</th>\n",
       "      <th>State</th>\n",
       "      <th>Region</th>\n",
       "      <th>District</th>\n",
       "    </tr>\n",
       "  </thead>\n",
       "  <tbody>\n",
       "    <tr>\n",
       "      <th>0</th>\n",
       "      <td>1450</td>\n",
       "      <td>Quibus RP-42</td>\n",
       "      <td>Urban</td>\n",
       "      <td>2017-09-21</td>\n",
       "      <td>2730</td>\n",
       "      <td>5</td>\n",
       "      <td>726.6</td>\n",
       "      <td>145.32</td>\n",
       "      <td>152.15</td>\n",
       "      <td>-6.83</td>\n",
       "      <td>Quibus</td>\n",
       "      <td>12</td>\n",
       "      <td>Mexico</td>\n",
       "      <td>-0.047</td>\n",
       "      <td>Batlow</td>\n",
       "      <td>New South Wales</td>\n",
       "      <td>NaN</td>\n",
       "      <td>CANBERRA</td>\n",
       "    </tr>\n",
       "    <tr>\n",
       "      <th>1</th>\n",
       "      <td>1450</td>\n",
       "      <td>Quibus RP-42</td>\n",
       "      <td>Urban</td>\n",
       "      <td>2017-09-21</td>\n",
       "      <td>2730</td>\n",
       "      <td>5</td>\n",
       "      <td>726.6</td>\n",
       "      <td>145.32</td>\n",
       "      <td>152.15</td>\n",
       "      <td>-6.83</td>\n",
       "      <td>Quibus</td>\n",
       "      <td>12</td>\n",
       "      <td>Mexico</td>\n",
       "      <td>-0.047</td>\n",
       "      <td>Ciudad de Mexico</td>\n",
       "      <td>Distrito Federal</td>\n",
       "      <td>NaN</td>\n",
       "      <td>Azcapotzalco</td>\n",
       "    </tr>\n",
       "  </tbody>\n",
       "</table>\n",
       "</div>"
      ],
      "text/plain": [
       "   ProductID  Product name Product Category       Date   Zip  Units  Revenue  \\\n",
       "0       1450  Quibus RP-42            Urban 2017-09-21  2730      5    726.6   \n",
       "1       1450  Quibus RP-42            Urban 2017-09-21  2730      5    726.6   \n",
       "\n",
       "   Revenue per unit  MSRP (USD)  Revenue minus MSRP Manufacturer  \\\n",
       "0            145.32      152.15               -6.83       Quibus   \n",
       "1            145.32      152.15               -6.83       Quibus   \n",
       "\n",
       "   Manufacturer ID Country  revenue-MSRP difference in fraction  \\\n",
       "0               12  Mexico                               -0.047   \n",
       "1               12  Mexico                               -0.047   \n",
       "\n",
       "               City             State Region      District  \n",
       "0            Batlow   New South Wales    NaN      CANBERRA  \n",
       "1  Ciudad de Mexico  Distrito Federal    NaN  Azcapotzalco  "
      ]
     },
     "execution_count": 157,
     "metadata": {},
     "output_type": "execute_result"
    }
   ],
   "source": [
    "sales_df = sales_df.merge(geo_df[[col for col in geo_df.columns if col != 'Country']], \n",
    "                left_on='Zip', right_on='Zip', how='left')\n",
    "sales_df.head(2)"
   ]
  },
  {
   "cell_type": "code",
   "execution_count": 175,
   "metadata": {},
   "outputs": [
    {
     "name": "stdout",
     "output_type": "stream",
     "text": [
      "<class 'pandas.core.frame.DataFrame'>\n",
      "Int64Index: 128712 entries, 0 to 128711\n",
      "Data columns (total 18 columns):\n",
      " #   Column                               Non-Null Count   Dtype         \n",
      "---  ------                               --------------   -----         \n",
      " 0   ProductID                            128712 non-null  int64         \n",
      " 1   Product name                         128712 non-null  object        \n",
      " 2   Product Category                     128712 non-null  object        \n",
      " 3   Date                                 128712 non-null  datetime64[ns]\n",
      " 4   Zip                                  128712 non-null  object        \n",
      " 5   Units                                128712 non-null  int64         \n",
      " 6   Revenue                              128712 non-null  float64       \n",
      " 7   Revenue per unit                     128712 non-null  float64       \n",
      " 8   MSRP (USD)                           128712 non-null  float64       \n",
      " 9   Revenue minus MSRP                   128712 non-null  float64       \n",
      " 10  Manufacturer                         128712 non-null  object        \n",
      " 11  Manufacturer ID                      128712 non-null  int64         \n",
      " 12  Country                              128712 non-null  object        \n",
      " 13  revenue-MSRP difference in fraction  128712 non-null  float64       \n",
      " 14  City                                 87165 non-null   object        \n",
      " 15  State                                92494 non-null   object        \n",
      " 16  Region                               31291 non-null   object        \n",
      " 17  District                             73639 non-null   object        \n",
      "dtypes: datetime64[ns](1), float64(5), int64(3), object(9)\n",
      "memory usage: 18.7+ MB\n"
     ]
    }
   ],
   "source": [
    "sales_df.info()"
   ]
  },
  {
   "cell_type": "code",
   "execution_count": 179,
   "metadata": {},
   "outputs": [
    {
     "data": {
      "text/html": [
       "<div>\n",
       "<style scoped>\n",
       "    .dataframe tbody tr th:only-of-type {\n",
       "        vertical-align: middle;\n",
       "    }\n",
       "\n",
       "    .dataframe tbody tr th {\n",
       "        vertical-align: top;\n",
       "    }\n",
       "\n",
       "    .dataframe thead th {\n",
       "        text-align: right;\n",
       "    }\n",
       "</style>\n",
       "<table border=\"1\" class=\"dataframe\">\n",
       "  <thead>\n",
       "    <tr style=\"text-align: right;\">\n",
       "      <th>Country</th>\n",
       "      <th>Australia</th>\n",
       "      <th>Canada</th>\n",
       "      <th>Germany</th>\n",
       "      <th>Japan</th>\n",
       "      <th>Mexico</th>\n",
       "      <th>Nigeria</th>\n",
       "      <th>USA</th>\n",
       "    </tr>\n",
       "    <tr>\n",
       "      <th>State</th>\n",
       "      <th></th>\n",
       "      <th></th>\n",
       "      <th></th>\n",
       "      <th></th>\n",
       "      <th></th>\n",
       "      <th></th>\n",
       "      <th></th>\n",
       "    </tr>\n",
       "  </thead>\n",
       "  <tbody>\n",
       "    <tr>\n",
       "      <th>AK</th>\n",
       "      <td>NaN</td>\n",
       "      <td>NaN</td>\n",
       "      <td>NaN</td>\n",
       "      <td>NaN</td>\n",
       "      <td>NaN</td>\n",
       "      <td>NaN</td>\n",
       "      <td>122.0</td>\n",
       "    </tr>\n",
       "    <tr>\n",
       "      <th>AL</th>\n",
       "      <td>NaN</td>\n",
       "      <td>NaN</td>\n",
       "      <td>NaN</td>\n",
       "      <td>NaN</td>\n",
       "      <td>NaN</td>\n",
       "      <td>NaN</td>\n",
       "      <td>577.0</td>\n",
       "    </tr>\n",
       "    <tr>\n",
       "      <th>AR</th>\n",
       "      <td>NaN</td>\n",
       "      <td>NaN</td>\n",
       "      <td>NaN</td>\n",
       "      <td>NaN</td>\n",
       "      <td>NaN</td>\n",
       "      <td>NaN</td>\n",
       "      <td>297.0</td>\n",
       "    </tr>\n",
       "    <tr>\n",
       "      <th>AZ</th>\n",
       "      <td>NaN</td>\n",
       "      <td>NaN</td>\n",
       "      <td>NaN</td>\n",
       "      <td>NaN</td>\n",
       "      <td>NaN</td>\n",
       "      <td>NaN</td>\n",
       "      <td>819.0</td>\n",
       "    </tr>\n",
       "    <tr>\n",
       "      <th>Aguascalientes</th>\n",
       "      <td>NaN</td>\n",
       "      <td>NaN</td>\n",
       "      <td>3.0</td>\n",
       "      <td>NaN</td>\n",
       "      <td>NaN</td>\n",
       "      <td>NaN</td>\n",
       "      <td>117.0</td>\n",
       "    </tr>\n",
       "    <tr>\n",
       "      <th>...</th>\n",
       "      <td>...</td>\n",
       "      <td>...</td>\n",
       "      <td>...</td>\n",
       "      <td>...</td>\n",
       "      <td>...</td>\n",
       "      <td>...</td>\n",
       "      <td>...</td>\n",
       "    </tr>\n",
       "    <tr>\n",
       "      <th>WY</th>\n",
       "      <td>NaN</td>\n",
       "      <td>NaN</td>\n",
       "      <td>NaN</td>\n",
       "      <td>NaN</td>\n",
       "      <td>NaN</td>\n",
       "      <td>NaN</td>\n",
       "      <td>119.0</td>\n",
       "    </tr>\n",
       "    <tr>\n",
       "      <th>Western Australia</th>\n",
       "      <td>3888.0</td>\n",
       "      <td>NaN</td>\n",
       "      <td>NaN</td>\n",
       "      <td>NaN</td>\n",
       "      <td>NaN</td>\n",
       "      <td>NaN</td>\n",
       "      <td>305.0</td>\n",
       "    </tr>\n",
       "    <tr>\n",
       "      <th>Yamaguchiken</th>\n",
       "      <td>NaN</td>\n",
       "      <td>NaN</td>\n",
       "      <td>NaN</td>\n",
       "      <td>60.0</td>\n",
       "      <td>NaN</td>\n",
       "      <td>NaN</td>\n",
       "      <td>NaN</td>\n",
       "    </tr>\n",
       "    <tr>\n",
       "      <th>Yucatan</th>\n",
       "      <td>NaN</td>\n",
       "      <td>NaN</td>\n",
       "      <td>NaN</td>\n",
       "      <td>NaN</td>\n",
       "      <td>NaN</td>\n",
       "      <td>NaN</td>\n",
       "      <td>214.0</td>\n",
       "    </tr>\n",
       "    <tr>\n",
       "      <th>Zacatecas</th>\n",
       "      <td>NaN</td>\n",
       "      <td>NaN</td>\n",
       "      <td>NaN</td>\n",
       "      <td>NaN</td>\n",
       "      <td>NaN</td>\n",
       "      <td>NaN</td>\n",
       "      <td>11.0</td>\n",
       "    </tr>\n",
       "  </tbody>\n",
       "</table>\n",
       "<p>108 rows × 7 columns</p>\n",
       "</div>"
      ],
      "text/plain": [
       "Country            Australia  Canada  Germany  Japan  Mexico  Nigeria    USA\n",
       "State                                                                       \n",
       "AK                       NaN     NaN      NaN    NaN     NaN      NaN  122.0\n",
       "AL                       NaN     NaN      NaN    NaN     NaN      NaN  577.0\n",
       "AR                       NaN     NaN      NaN    NaN     NaN      NaN  297.0\n",
       "AZ                       NaN     NaN      NaN    NaN     NaN      NaN  819.0\n",
       "Aguascalientes           NaN     NaN      3.0    NaN     NaN      NaN  117.0\n",
       "...                      ...     ...      ...    ...     ...      ...    ...\n",
       "WY                       NaN     NaN      NaN    NaN     NaN      NaN  119.0\n",
       "Western Australia     3888.0     NaN      NaN    NaN     NaN      NaN  305.0\n",
       "Yamaguchiken             NaN     NaN      NaN   60.0     NaN      NaN    NaN\n",
       "Yucatan                  NaN     NaN      NaN    NaN     NaN      NaN  214.0\n",
       "Zacatecas                NaN     NaN      NaN    NaN     NaN      NaN   11.0\n",
       "\n",
       "[108 rows x 7 columns]"
      ]
     },
     "execution_count": 179,
     "metadata": {},
     "output_type": "execute_result"
    }
   ],
   "source": [
    "sales_df.pivot_table(values='ProductID', index='Country', columns='State', aggfunc='count').T"
   ]
  },
  {
   "cell_type": "code",
   "execution_count": 193,
   "metadata": {},
   "outputs": [
    {
     "data": {
      "text/html": [
       "<div>\n",
       "<style scoped>\n",
       "    .dataframe tbody tr th:only-of-type {\n",
       "        vertical-align: middle;\n",
       "    }\n",
       "\n",
       "    .dataframe tbody tr th {\n",
       "        vertical-align: top;\n",
       "    }\n",
       "\n",
       "    .dataframe thead th {\n",
       "        text-align: right;\n",
       "    }\n",
       "</style>\n",
       "<table border=\"1\" class=\"dataframe\">\n",
       "  <thead>\n",
       "    <tr style=\"text-align: right;\">\n",
       "      <th></th>\n",
       "      <th></th>\n",
       "      <th>ProductID</th>\n",
       "    </tr>\n",
       "    <tr>\n",
       "      <th>Country</th>\n",
       "      <th>State</th>\n",
       "      <th></th>\n",
       "    </tr>\n",
       "  </thead>\n",
       "  <tbody>\n",
       "    <tr>\n",
       "      <th rowspan=\"5\" valign=\"top\">USA</th>\n",
       "      <th>CA</th>\n",
       "      <td>5620</td>\n",
       "    </tr>\n",
       "    <tr>\n",
       "      <th>FL</th>\n",
       "      <td>2173</td>\n",
       "    </tr>\n",
       "    <tr>\n",
       "      <th>TX</th>\n",
       "      <td>2065</td>\n",
       "    </tr>\n",
       "    <tr>\n",
       "      <th>Veracruz Llave</th>\n",
       "      <td>1758</td>\n",
       "    </tr>\n",
       "    <tr>\n",
       "      <th>Bayern</th>\n",
       "      <td>1132</td>\n",
       "    </tr>\n",
       "  </tbody>\n",
       "</table>\n",
       "</div>"
      ],
      "text/plain": [
       "                        ProductID\n",
       "Country State                    \n",
       "USA     CA                   5620\n",
       "        FL                   2173\n",
       "        TX                   2065\n",
       "        Veracruz Llave       1758\n",
       "        Bayern               1132"
      ]
     },
     "execution_count": 193,
     "metadata": {},
     "output_type": "execute_result"
    }
   ],
   "source": [
    "country_df = sales_df.groupby(['Country', 'State'])[['ProductID']].count(). \\\n",
    "    sort_values(['Country', 'ProductID'], ascending=False)\n",
    "country_df.head()"
   ]
  },
  {
   "cell_type": "code",
   "execution_count": 200,
   "metadata": {},
   "outputs": [
    {
     "data": {
      "text/html": [
       "<div>\n",
       "<style scoped>\n",
       "    .dataframe tbody tr th:only-of-type {\n",
       "        vertical-align: middle;\n",
       "    }\n",
       "\n",
       "    .dataframe tbody tr th {\n",
       "        vertical-align: top;\n",
       "    }\n",
       "\n",
       "    .dataframe thead th {\n",
       "        text-align: right;\n",
       "    }\n",
       "</style>\n",
       "<table border=\"1\" class=\"dataframe\">\n",
       "  <thead>\n",
       "    <tr style=\"text-align: right;\">\n",
       "      <th></th>\n",
       "      <th></th>\n",
       "      <th>ProductID</th>\n",
       "    </tr>\n",
       "    <tr>\n",
       "      <th>Country</th>\n",
       "      <th>State</th>\n",
       "      <th></th>\n",
       "    </tr>\n",
       "  </thead>\n",
       "  <tbody>\n",
       "    <tr>\n",
       "      <th rowspan=\"20\" valign=\"top\">Australia</th>\n",
       "      <th>New South Wales</th>\n",
       "      <td>11711</td>\n",
       "    </tr>\n",
       "    <tr>\n",
       "      <th>Victoria</th>\n",
       "      <td>9545</td>\n",
       "    </tr>\n",
       "    <tr>\n",
       "      <th>Queensland</th>\n",
       "      <td>6031</td>\n",
       "    </tr>\n",
       "    <tr>\n",
       "      <th>Distrito Federal</th>\n",
       "      <td>4851</td>\n",
       "    </tr>\n",
       "    <tr>\n",
       "      <th>South Australia</th>\n",
       "      <td>4466</td>\n",
       "    </tr>\n",
       "    <tr>\n",
       "      <th>Western Australia</th>\n",
       "      <td>3888</td>\n",
       "    </tr>\n",
       "    <tr>\n",
       "      <th>MA</th>\n",
       "      <td>3237</td>\n",
       "    </tr>\n",
       "    <tr>\n",
       "      <th>CT</th>\n",
       "      <td>1848</td>\n",
       "    </tr>\n",
       "    <tr>\n",
       "      <th>Tasmania</th>\n",
       "      <td>1113</td>\n",
       "    </tr>\n",
       "    <tr>\n",
       "      <th>Sachsen</th>\n",
       "      <td>1082</td>\n",
       "    </tr>\n",
       "    <tr>\n",
       "      <th>VT</th>\n",
       "      <td>783</td>\n",
       "    </tr>\n",
       "    <tr>\n",
       "      <th>Northern Territory</th>\n",
       "      <td>713</td>\n",
       "    </tr>\n",
       "    <tr>\n",
       "      <th>Sachsen-Anhalt</th>\n",
       "      <td>676</td>\n",
       "    </tr>\n",
       "    <tr>\n",
       "      <th>Australian Capital Territory</th>\n",
       "      <td>521</td>\n",
       "    </tr>\n",
       "    <tr>\n",
       "      <th>NJ</th>\n",
       "      <td>508</td>\n",
       "    </tr>\n",
       "    <tr>\n",
       "      <th>RI</th>\n",
       "      <td>493</td>\n",
       "    </tr>\n",
       "    <tr>\n",
       "      <th>Brandenburg</th>\n",
       "      <td>335</td>\n",
       "    </tr>\n",
       "    <tr>\n",
       "      <th>NH</th>\n",
       "      <td>270</td>\n",
       "    </tr>\n",
       "    <tr>\n",
       "      <th>Thüringen</th>\n",
       "      <td>99</td>\n",
       "    </tr>\n",
       "    <tr>\n",
       "      <th>NY</th>\n",
       "      <td>24</td>\n",
       "    </tr>\n",
       "  </tbody>\n",
       "</table>\n",
       "</div>"
      ],
      "text/plain": [
       "                                        ProductID\n",
       "Country   State                                  \n",
       "Australia New South Wales                   11711\n",
       "          Victoria                           9545\n",
       "          Queensland                         6031\n",
       "          Distrito Federal                   4851\n",
       "          South Australia                    4466\n",
       "          Western Australia                  3888\n",
       "          MA                                 3237\n",
       "          CT                                 1848\n",
       "          Tasmania                           1113\n",
       "          Sachsen                            1082\n",
       "          VT                                  783\n",
       "          Northern Territory                  713\n",
       "          Sachsen-Anhalt                      676\n",
       "          Australian Capital Territory        521\n",
       "          NJ                                  508\n",
       "          RI                                  493\n",
       "          Brandenburg                         335\n",
       "          NH                                  270\n",
       "          Thüringen                            99\n",
       "          NY                                   24"
      ]
     },
     "execution_count": 200,
     "metadata": {},
     "output_type": "execute_result"
    }
   ],
   "source": [
    "aust_df = country_df[[x[0] == 'Australia' for x in country_df.index]]\n",
    "aust_df"
   ]
  },
  {
   "cell_type": "code",
   "execution_count": null,
   "metadata": {},
   "outputs": [],
   "source": []
  }
 ],
 "metadata": {
  "kernelspec": {
   "display_name": "base",
   "language": "python",
   "name": "python3"
  },
  "language_info": {
   "codemirror_mode": {
    "name": "ipython",
    "version": 3
   },
   "file_extension": ".py",
   "mimetype": "text/x-python",
   "name": "python",
   "nbconvert_exporter": "python",
   "pygments_lexer": "ipython3",
   "version": "3.9.7"
  },
  "orig_nbformat": 4,
  "vscode": {
   "interpreter": {
    "hash": "d4b3ed6123b24d1be07dc984a4cd0668b04cf02ff0b0af3eabdd70774543141c"
   }
  }
 },
 "nbformat": 4,
 "nbformat_minor": 2
}
